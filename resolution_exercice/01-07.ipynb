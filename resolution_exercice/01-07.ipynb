{
 "cells": [
  {
   "cell_type": "markdown",
   "id": "2480ade1-44cb-44bf-b42a-cdecf01b4967",
   "metadata": {},
   "source": [
    "# Resolutions des exercices"
   ]
  },
  {
   "cell_type": "markdown",
   "id": "969587d0-e40a-4fa9-bec9-6c0945526db9",
   "metadata": {
    "jp-MarkdownHeadingCollapsed": true
   },
   "source": [
    "### Exo 1:"
   ]
  },
  {
   "cell_type": "code",
   "execution_count": 15,
   "id": "eda029d2-344c-45b8-8a53-f8d3541a98a8",
   "metadata": {},
   "outputs": [
    {
     "name": "stdin",
     "output_type": "stream",
     "text": [
      "Veuillez deviner un nombre entre 0 et 100:  bonjour\n"
     ]
    },
    {
     "name": "stdout",
     "output_type": "stream",
     "text": [
      "Veuillez entrer un nombre valide\n"
     ]
    },
    {
     "name": "stdin",
     "output_type": "stream",
     "text": [
      "Veuillez deviner un nombre entre 0 et 100:  kk\n"
     ]
    },
    {
     "name": "stdout",
     "output_type": "stream",
     "text": [
      "Veuillez entrer un nombre valide\n"
     ]
    },
    {
     "name": "stdin",
     "output_type": "stream",
     "text": [
      "Veuillez deviner un nombre entre 0 et 100:  10\n"
     ]
    },
    {
     "name": "stdout",
     "output_type": "stream",
     "text": [
      "Trop petit\n"
     ]
    },
    {
     "name": "stdin",
     "output_type": "stream",
     "text": [
      "Veuillez deviner un nombre entre 0 et 100:  quit\n"
     ]
    },
    {
     "name": "stdout",
     "output_type": "stream",
     "text": [
      "A bientot! \n"
     ]
    }
   ],
   "source": [
    "import random\n",
    "\n",
    "def devinette():\n",
    "    n, rand = 0, 100\n",
    "    while n != rand:\n",
    "        n = input('Veuillez deviner un nombre entre 0 et 100: ' )\n",
    "        if (n == \"quit\") :\n",
    "            print('A bientot! ')\n",
    "            break\n",
    "            \n",
    "        try:\n",
    "            n = int(n.strip())\n",
    "        except:\n",
    "            print('Veuillez entrer un nombre valide')\n",
    "            continue\n",
    "            \n",
    "        if n < rand:\n",
    "            print('Trop petit')\n",
    "        elif n > rand:\n",
    "            print('Trop grand')\n",
    "        else:\n",
    "            print('Nombre exact.')\n",
    "devinette()"
   ]
  },
  {
   "attachments": {},
   "cell_type": "markdown",
   "id": "e2f76039-22d6-4b71-b9cd-504389b9832c",
   "metadata": {
    "jp-MarkdownHeadingCollapsed": true
   },
   "source": [
    "### Exo 2"
   ]
  },
  {
   "cell_type": "code",
   "execution_count": 14,
   "id": "337c9674-61d4-47d3-a474-2f82303df3d9",
   "metadata": {},
   "outputs": [
    {
     "name": "stdin",
     "output_type": "stream",
     "text": [
      "Veuillez deviner un nombre entre 0 et 100:  2\n"
     ]
    },
    {
     "name": "stdout",
     "output_type": "stream",
     "text": [
      "Trop petit\n"
     ]
    },
    {
     "name": "stdin",
     "output_type": "stream",
     "text": [
      "Veuillez deviner un nombre entre 0 et 100:  3\n"
     ]
    },
    {
     "name": "stdout",
     "output_type": "stream",
     "text": [
      "Trop petit\n"
     ]
    },
    {
     "name": "stdin",
     "output_type": "stream",
     "text": [
      "Veuillez deviner un nombre entre 0 et 100:  4\n"
     ]
    },
    {
     "name": "stdout",
     "output_type": "stream",
     "text": [
      "Trop petit\n",
      "Vous avez épuisé vos 3 chances pour trouvez le nombre\n"
     ]
    }
   ],
   "source": [
    "def devinette2():\n",
    "    n, rand = 0, random.randint(0, 100)\n",
    "    chance = 3\n",
    "    while (n != rand):\n",
    "        if chance < 1:\n",
    "            print(\"Vous avez épuisé vos 3 chances pour trouvez le nombre\")\n",
    "            break\n",
    "        \n",
    "        n = input('Veuillez deviner un nombre entre 0 et 100: ' )\n",
    "        try:\n",
    "            n = int(n.strip())\n",
    "        except:\n",
    "            print('Veuillez entrer un nombre valide')\n",
    "            continue\n",
    "            \n",
    "        if n == rand:\n",
    "            print('Nombre exact.')\n",
    "        else:\n",
    "            chance -= 1\n",
    "            if n < rand:\n",
    "                print('Trop petit')\n",
    "            else:\n",
    "                print('Trop grand')\n",
    "            \n",
    "\n",
    "devinette2()"
   ]
  },
  {
   "cell_type": "markdown",
   "id": "9a301ef6-c8a8-4ce4-8ba5-b8a0d528f04a",
   "metadata": {
    "jp-MarkdownHeadingCollapsed": true
   },
   "source": [
    "### EXO 3"
   ]
  },
  {
   "cell_type": "code",
   "execution_count": 34,
   "id": "1ba10dd9-0dfa-471f-a1e1-9902ae83b71e",
   "metadata": {},
   "outputs": [
    {
     "name": "stdout",
     "output_type": "stream",
     "text": [
      "Impossible de convertir bn en nombre. La valeur sera ignorée.\n"
     ]
    },
    {
     "data": {
      "text/plain": [
       "4.5"
      ]
     },
     "execution_count": 34,
     "metadata": {},
     "output_type": "execute_result"
    }
   ],
   "source": [
    "def somme(liste: list) -> float:\n",
    "    total = 0\n",
    "    if type(liste) == list:\n",
    "        for num in liste:\n",
    "            try:\n",
    "                num = float(num)\n",
    "            except:\n",
    "                print(f\"Impossible de convertir {num} en nombre. La valeur sera ignorée.\")\n",
    "                continue \n",
    "            total +=  num\n",
    "\n",
    "    else:\n",
    "        print(\"L'argument passé n'est pas une liste.\")\n",
    "        \n",
    "    return total if total != int(total) else int(total)\n",
    "\n",
    "somme([1, 2, ' 1.5', 'bn'])\n"
   ]
  },
  {
   "cell_type": "markdown",
   "id": "e06e6a2b-2302-4f13-9f1e-32366a84c4f0",
   "metadata": {
    "jp-MarkdownHeadingCollapsed": true
   },
   "source": [
    "### Exo 4"
   ]
  },
  {
   "cell_type": "code",
   "execution_count": 78,
   "id": "faae7d7b-6071-44d0-957c-4870567369f5",
   "metadata": {},
   "outputs": [
    {
     "name": "stdin",
     "output_type": "stream",
     "text": [
      "Veuillez entrer votre prénom:  ange aymar 10\n",
      "Veuillez entrer votre nom:  zanou\n"
     ]
    },
    {
     "data": {
      "text/plain": [
       "'angeaymar_zanou@pythonboss.com'"
      ]
     },
     "execution_count": 78,
     "metadata": {},
     "output_type": "execute_result"
    }
   ],
   "source": [
    "import re\n",
    "def generer_email():\n",
    "    prenom = input('Veuillez entrer votre prénom: ').strip()\n",
    "    nom = input('Veuillez entrer votre nom: ').strip()\n",
    "    prenom = ''.join([re.sub('[^a-zA-Z\\s]','', i) for i in prenom.split()])\n",
    "    return f\"{prenom}_{nom}@pythonboss.com\"\n",
    "\n",
    "generer_email()"
   ]
  },
  {
   "cell_type": "markdown",
   "id": "7f215679-8565-4b21-8235-589c9a02b003",
   "metadata": {
    "jp-MarkdownHeadingCollapsed": true
   },
   "source": [
    "### Exo 5"
   ]
  },
  {
   "cell_type": "code",
   "execution_count": 87,
   "id": "020ba595-3870-47d7-9aa4-e5e8c35c3455",
   "metadata": {},
   "outputs": [
    {
     "data": {
      "text/plain": [
       "'hnopty'"
      ]
     },
     "execution_count": 87,
     "metadata": {},
     "output_type": "execute_result"
    }
   ],
   "source": [
    "def ordonne_str(mot:str) -> str:\n",
    "    if type(mot) != str:\n",
    "        raise ValueError(\"Cette fonction ne prends en charge que les chaînes de caractères\")\n",
    "    return  ''.join(sorted(list(mot)))\n",
    "ordonne_str('python')"
   ]
  },
  {
   "cell_type": "markdown",
   "id": "bbd33e05-cdff-4c89-b0de-3ea4d8067a0f",
   "metadata": {
    "jp-MarkdownHeadingCollapsed": true
   },
   "source": [
    "### Exo 6"
   ]
  },
  {
   "cell_type": "code",
   "execution_count": 89,
   "id": "bd422f9d-c2b6-4209-9ca9-bf793fc3e3d9",
   "metadata": {},
   "outputs": [
    {
     "data": {
      "text/plain": [
       "'Bnjr l fmll'"
      ]
     },
     "execution_count": 89,
     "metadata": {},
     "output_type": "execute_result"
    }
   ],
   "source": [
    "import re\n",
    "def sans_voyelles(phrase):\n",
    "    if type(mot) != str:\n",
    "        raise ValueError(\"Cette fonction ne prends en charge que les chaînes de caractères\")\n",
    "        \n",
    "    voyelles = r'[aeiouAEIOU]'\n",
    "    return re.sub(voyelles, '', phrase )\n",
    "    \n",
    "sans_voyelles(\"Bonjour la famille\")"
   ]
  },
  {
   "cell_type": "markdown",
   "id": "2df761c4-3eb1-49d4-92e0-449319430a38",
   "metadata": {
    "jp-MarkdownHeadingCollapsed": true
   },
   "source": [
    "### Exo 7"
   ]
  },
  {
   "cell_type": "code",
   "execution_count": 92,
   "id": "6fe60e68-8479-481c-aa1e-1408f564ab5b",
   "metadata": {},
   "outputs": [
    {
     "data": {
      "text/plain": [
       "'Bnjr la famll'"
      ]
     },
     "execution_count": 92,
     "metadata": {},
     "output_type": "execute_result"
    }
   ],
   "source": [
    "def sans_voyelles2(phrase):\n",
    "    if type(mot) != str:\n",
    "        raise ValueError(\"Cette fonction ne prends en charge que les chaînes de caractères\")\n",
    "        \n",
    "    voyelles = r'[eiouEIOU]'\n",
    "    return re.sub(voyelles, '', phrase )\n",
    "    \n",
    "sans_voyelles2(\"Bonjour la famille\")"
   ]
  },
  {
   "cell_type": "markdown",
   "id": "2c5d3d3a-0de0-4366-b109-c6f4cb9ee851",
   "metadata": {
    "jp-MarkdownHeadingCollapsed": true
   },
   "source": [
    "### Exo 8"
   ]
  },
  {
   "cell_type": "code",
   "execution_count": 129,
   "id": "2c2d8973-4214-4393-b201-d6978ad5d063",
   "metadata": {},
   "outputs": [
    {
     "name": "stdout",
     "output_type": "stream",
     "text": [
      "{'a': 1} n'est pas une séquence.\n"
     ]
    }
   ],
   "source": [
    "from collections.abc import Sequence\n",
    "def debut_fin(sequence:Sequence):\n",
    "    if isinstance(sequence, Sequence):\n",
    "        if len(sequence) > 1:\n",
    "            return sequence[::len(sequence) - 1]\n",
    "        return sequence\n",
    "    print(f\"{sequence} n'est pas une séquence.\")\n",
    "    \n",
    "debut_fin({ \"a\" : 1 })"
   ]
  },
  {
   "cell_type": "markdown",
   "id": "f5296aaa-cf83-413f-8ffa-0aca36924c05",
   "metadata": {
    "jp-MarkdownHeadingCollapsed": true
   },
   "source": [
    "### Exo 9"
   ]
  },
  {
   "cell_type": "code",
   "execution_count": 132,
   "id": "9e32e360-14a5-406f-b49c-b856af665902",
   "metadata": {},
   "outputs": [
    {
     "data": {
      "text/plain": [
       "[90, 120]"
      ]
     },
     "execution_count": 132,
     "metadata": {},
     "output_type": "execute_result"
    }
   ],
   "source": [
    "def somme_pair_impair(liste:list):\n",
    "    if type(liste) == list:\n",
    "        impair, pair = 0, 0\n",
    "        for ind, nombre in enumerate(liste):\n",
    "            if ind % 2 == 0:\n",
    "                try:\n",
    "                    pair += float(nombre) \n",
    "                except:\n",
    "                    print(f\"{nombre} n'est pas un nombre valide. Il sera donc ignoré\")\n",
    "                    continue\n",
    "            else:\n",
    "                try:\n",
    "                    impair += float(nombre) \n",
    "                except:\n",
    "                    print(f\"{nombre} n'est pas un nombre valide. Il sera donc ignoré\")\n",
    "                    continue\n",
    "                    \n",
    "        return [pair if pair != int(pair) else int(pair) , impair if impair != int(impair) else int(impair)]\n",
    "    else:\n",
    "        print(\"L'argument passé n'est pas une liste.\")\n",
    "\n",
    "somme_pair_impair([10,20,30,40,50,60])"
   ]
  },
  {
   "cell_type": "markdown",
   "id": "42ea2866-7c60-4baa-8d4d-1f0f73fc757f",
   "metadata": {},
   "source": [
    "### Exo 10"
   ]
  },
  {
   "cell_type": "code",
   "execution_count": 135,
   "id": "bb722a3f-cc7a-4ef2-a8b1-01813c9e5dd0",
   "metadata": {},
   "outputs": [
    {
     "data": {
      "text/plain": [
       "'elementaire'"
      ]
     },
     "execution_count": 135,
     "metadata": {},
     "output_type": "execute_result"
    }
   ],
   "source": [
    "def mot_lettre_repetee(liste:list) -> int:\n",
    "    if type(liste) == list:\n",
    "        compteur = {'max': 0, 'mot': ''} \n",
    "        for mot in liste:\n",
    "            if type(mot) != str:\n",
    "                continue\n",
    "            for lettre in mot:\n",
    "                if mot.count(lettre) >= compteur['max']:\n",
    "                    compteur['max'] = mot.count(lettre)\n",
    "                    compteur['mot'] = mot \n",
    "        return compteur['mot']\n",
    "    else:\n",
    "        print(\"L'argument passé n'est pas une liste.\")\n",
    "\n",
    "mot_lettre_repetee([\"On\", \"a\", \"effectuee\", \"plusieurs\", \"tests\", \"elementaire\", \"ce\", \"matin\"])"
   ]
  },
  {
   "cell_type": "markdown",
   "id": "c75ba978-80ba-4a25-a908-9a364cc67015",
   "metadata": {},
   "source": [
    "### Exo 11"
   ]
  },
  {
   "cell_type": "code",
   "execution_count": 138,
   "id": "d245181a-0459-4297-920b-ebbcafa1d2ab",
   "metadata": {},
   "outputs": [
    {
     "data": {
      "text/plain": [
       "[11, 5]"
      ]
     },
     "execution_count": 138,
     "metadata": {},
     "output_type": "execute_result"
    }
   ],
   "source": [
    "def distance_nombre(liste:list) -> list:\n",
    "    if type(liste) == list:\n",
    "        res = []\n",
    "        for ind, nombre in enumerate(liste):\n",
    "            if ind < len(liste) - 1:\n",
    "                dist = liste[ind + 1 ] - nombre\n",
    "                res.append(abs(dist))\n",
    "        return res \n",
    "\n",
    "    else:\n",
    "        print(\"L'argument passé n'est pas une liste.\")\n",
    "\n",
    "distance_nombre([65, 54, 59])"
   ]
  },
  {
   "cell_type": "markdown",
   "id": "1313ac26-cd3d-4f6b-9d14-2bd3fc3ebd30",
   "metadata": {},
   "source": [
    "### Exo 12"
   ]
  },
  {
   "cell_type": "code",
   "execution_count": 144,
   "id": "998fda6d-716c-41c5-9cb0-5e4a215ac48d",
   "metadata": {},
   "outputs": [
    {
     "data": {
      "text/plain": [
       "[('a', 3), ('c', 2), ('d', 1), ('a', 2), ('d', 1)]"
      ]
     },
     "execution_count": 144,
     "metadata": {},
     "output_type": "execute_result"
    }
   ],
   "source": [
    "def lettres_successifs(mot):\n",
    "    if type(mot) == str:\n",
    "        res = [] \n",
    "        count = 0\n",
    "        for ind, lettre in enumerate(mot):\n",
    "            count += 1\n",
    "            if ind < len(mot) - 1:\n",
    "                if mot[ind + 1] != lettre:\n",
    "                    res.append((lettre, count))\n",
    "                    count = 0\n",
    "            elif ind == len(mot) - 1:\n",
    "                res.append((lettre, count))\n",
    "                \n",
    "        return res\n",
    "\n",
    "lettres_successifs(\"aaaccdaad\")                           "
   ]
  },
  {
   "cell_type": "markdown",
   "id": "9a2ac472-074c-4bc9-b825-033d2366afe8",
   "metadata": {},
   "source": [
    "### Exo 13"
   ]
  },
  {
   "cell_type": "code",
   "execution_count": null,
   "id": "c70f8274-e364-4a37-9f89-9e85b0c9b82f",
   "metadata": {},
   "outputs": [],
   "source": []
  }
 ],
 "metadata": {
  "kernelspec": {
   "display_name": "Python 3 (ipykernel)",
   "language": "python",
   "name": "python3"
  },
  "language_info": {
   "codemirror_mode": {
    "name": "ipython",
    "version": 3
   },
   "file_extension": ".py",
   "mimetype": "text/x-python",
   "name": "python",
   "nbconvert_exporter": "python",
   "pygments_lexer": "ipython3",
   "version": "3.11.7"
  }
 },
 "nbformat": 4,
 "nbformat_minor": 5
}
