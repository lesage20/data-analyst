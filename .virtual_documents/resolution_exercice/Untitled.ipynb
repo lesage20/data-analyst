





import random

def devinette():
    n = 0
    rand = random.randint(0, 100)
    while n != rand:
        n = input('Veuillez deviner un nombre entre 0 et 100: ' )
        if (n == "quit") :
            break
        n = int(n)
        rand = random.randint(0, 100 )
        if n < rand:
            print('Trop petit', rand)
        elif n > rand:
            print('Trop grand', rand)
        else:
            print('Félicitation vous avez trouvez le bon nombre.')



