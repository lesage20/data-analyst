





import random

def devinette():
    n, rand = 0, 100
    while n != rand:
        n = input('Veuillez deviner un nombre entre 0 et 100: ' )
        if (n == "quit") :
            print('A bientot! ')
            break
            
        n = int(n)
        if n < rand:
            print('Trop petit')
        elif n > rand:
            print('Trop grand')
        else:
            print('Nombre exact.')


devinette()





def devinette2():
    n, rand = 0, random.randint(0, 100)
    chance = 3
    while (n != rand):
        if chance < 1:
            print("Vous avez épuisé vos 3 chances pour trouvez le nombre")
            break
        n = input('Veuillez deviner un nombre entre 0 et 100: ' )
        n = int(n.strip())
        if n == rand:
            print('Nombre exact.')
        else:
            chance -= 1
            if n < rand:
                print('Trop petit')
            else:
                print('Trop grand')
            

devinette2()



